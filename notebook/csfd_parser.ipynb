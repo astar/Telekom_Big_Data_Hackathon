{
 "cells": [
  {
   "cell_type": "markdown",
   "metadata": {},
   "source": [
    "### rented movies = 747"
   ]
  },
  {
   "cell_type": "code",
   "execution_count": 15,
   "metadata": {
    "collapsed": false
   },
   "outputs": [
    {
     "name": "stdout",
     "output_type": "stream",
     "text": [
      "Collecting lxml\n",
      "  Downloading lxml-3.7.3-cp35-cp35m-manylinux1_x86_64.whl (7.1MB)\n",
      "\u001b[K    100% |████████████████████████████████| 7.1MB 180kB/s ta 0:00:01\n",
      "\u001b[?25hInstalling collected packages: lxml\n",
      "Successfully installed lxml-3.7.3\n"
     ]
    }
   ],
   "source": [
    "!pip install lxml"
   ]
  },
  {
   "cell_type": "code",
   "execution_count": 22,
   "metadata": {
    "collapsed": false
   },
   "outputs": [],
   "source": [
    "from urllib.parse import urlencode\n",
    "from lxml.html import parse\n",
    "import pandas as pd\n",
    "import numpy as np"
   ]
  },
  {
   "cell_type": "code",
   "execution_count": 18,
   "metadata": {
    "collapsed": true
   },
   "outputs": [],
   "source": [
    "from lxml import html\n",
    "import requests"
   ]
  },
  {
   "cell_type": "markdown",
   "metadata": {},
   "source": [
    "## find movie"
   ]
  },
  {
   "cell_type": "code",
   "execution_count": 53,
   "metadata": {
    "collapsed": false
   },
   "outputs": [],
   "source": [
    "def find_movie(film):\n",
    "    try:\n",
    "        url = \"http://www.csfd.cz/hledat/\" + '?' + urlencode({'q' : film})\n",
    "        root = parse(url).getroot()\n",
    "        page = requests.get(url)\n",
    "        tree = html.fromstring(page.content)\n",
    "        doc_movies = tree.xpath(\"//div[@id='search-films']/div[1]\")[0]\n",
    "        l = doc_movies.xpath(\"ul[1]/li\")[0]\n",
    "        href = l.xpath(\"a\")[0].get(\"href\")\n",
    "    except:\n",
    "       return None                                                         \n",
    "    #print(l.xpath(\"a/img\")[0].get(\"src\"))\n",
    "    #print(l.xpath(\"div/h3/a\")[0].text)\n",
    "    return href;"
   ]
  },
  {
   "cell_type": "code",
   "execution_count": 37,
   "metadata": {
    "collapsed": false
   },
   "outputs": [
    {
     "data": {
      "text/plain": [
       "'/film/321575-kokot-a-perly/'"
      ]
     },
     "execution_count": 37,
     "metadata": {},
     "output_type": "execute_result"
    }
   ],
   "source": [
    "find_movie('kokot')"
   ]
  },
  {
   "cell_type": "code",
   "execution_count": 56,
   "metadata": {
    "collapsed": false
   },
   "outputs": [],
   "source": [
    "def get_movie_detail(film):\n",
    "    \n",
    "    nadpis = None,\n",
    "    img = None\n",
    "    genresnew = None\n",
    "    score = None\n",
    "    relatednew = None\n",
    "    try:\n",
    "        url = \"http://www.csfd.cz\" + film\n",
    "        root = parse(url).getroot()\n",
    "        page = requests.get(url)\n",
    "        tree = html.fromstring(page.content)\n",
    "        nadpis = tree.xpath(\"//h1\")[0].text.strip()\n",
    "        img = tree.xpath(\"//div[@id='profile']/div/div/img\")[0].get(\"src\")\n",
    "        img = \"http:\" + img\n",
    "        text = tree.xpath(\"//div[@id='profile']//p[@class='genre']\")[0].text\n",
    "        genresold = text.split(\"/\")\n",
    "        genresnew = []\n",
    "        for x in genresold: \n",
    "            genresnew.append(x.strip())\n",
    "        score = tree.xpath(\"//h2[@class='average']\")[0].text\n",
    "        relatedold = tree.xpath(\"//div[@class='ct-related related']/div/ul/li/a\")\n",
    "        relatednew = []\n",
    "        for x in relatedold: \n",
    "            relatednew.append(x.get(\"href\"))\n",
    "    except:\n",
    "        pass\n",
    "    return {'title': nadpis, 'img': img, 'genres': genresnew, 'score': score, 'related': relatednew};"
   ]
  },
  {
   "cell_type": "code",
   "execution_count": 57,
   "metadata": {
    "collapsed": false
   },
   "outputs": [
    {
     "data": {
      "text/plain": [
       "{'genres': ['Akční', 'Sci-Fi', 'Thriller'],\n",
       " 'img': 'http://img.csfd.cz/files/images/film/posters/000/001/1251_697bf1.jpg?h180',\n",
       " 'related': ['/film/263921-terminator-genisys/',\n",
       "  '/film/227774-terminator-salvation/',\n",
       "  '/film/268365-terminator-salvation-temny-pocatek/',\n",
       "  '/film/230905-terminator-pribeh-sary-connorove/',\n",
       "  '/film/15908-terminator-3-vzpoura-stroju/',\n",
       "  '/film/42922-t2-3-d-battle-across-time/',\n",
       "  '/film/362169-guns-n-roses-you-could-be-mine/',\n",
       "  '/film/1248-terminator-2-den-zuctovani/'],\n",
       " 'score': '87%',\n",
       " 'title': 'Terminátor'}"
      ]
     },
     "execution_count": 57,
     "metadata": {},
     "output_type": "execute_result"
    }
   ],
   "source": [
    "get_movie_detail(\"/film/1249-terminator/\")"
   ]
  },
  {
   "cell_type": "code",
   "execution_count": 58,
   "metadata": {
    "collapsed": false
   },
   "outputs": [],
   "source": [
    "def get_movie(film):\n",
    "    movie_detail = None\n",
    "    movie = find_movie(film)\n",
    "    if movie is not None:\n",
    "        movie_detail = get_movie_detail(movie)\n",
    "    return movie_detail"
   ]
  },
  {
   "cell_type": "code",
   "execution_count": 59,
   "metadata": {
    "collapsed": false
   },
   "outputs": [
    {
     "data": {
      "text/plain": [
       "'Kokot a perly'"
      ]
     },
     "execution_count": 59,
     "metadata": {},
     "output_type": "execute_result"
    }
   ],
   "source": [
    "get_movie('kokot')['title']"
   ]
  },
  {
   "cell_type": "code",
   "execution_count": 4,
   "metadata": {
    "collapsed": false
   },
   "outputs": [],
   "source": [
    "data = pd.read_csv('../query-hive-486.csv', names=['name', 'gender', 'cnt'])"
   ]
  },
  {
   "cell_type": "code",
   "execution_count": 85,
   "metadata": {
    "collapsed": true,
    "scrolled": true
   },
   "outputs": [],
   "source": [
    "sex = data.name.str.contains('Hustler|Bohem|Dorcel|Leo', regex=True)"
   ]
  },
  {
   "cell_type": "markdown",
   "metadata": {},
   "source": [
    "### Sex movies ratio"
   ]
  },
  {
   "cell_type": "code",
   "execution_count": 86,
   "metadata": {
    "collapsed": false,
    "scrolled": true
   },
   "outputs": [
    {
     "data": {
      "text/plain": [
       "48.0"
      ]
     },
     "execution_count": 86,
     "metadata": {},
     "output_type": "execute_result"
    }
   ],
   "source": [
    "np.round(np.sum(sex)/data.shape[0],2)*100"
   ]
  },
  {
   "cell_type": "code",
   "execution_count": 43,
   "metadata": {
    "collapsed": false
   },
   "outputs": [
    {
     "data": {
      "text/plain": [
       "genres           [Dokumentární, Krátkometrážní, Životopisný]\n",
       "img        http:http://img.csfd.cz/assets/b2206/images/po...\n",
       "related                                                   []\n",
       "score                                                    74%\n",
       "title                                          Kokot a perly\n",
       "dtype: object"
      ]
     },
     "execution_count": 43,
     "metadata": {},
     "output_type": "execute_result"
    }
   ],
   "source": [
    "pd.Series(get_movie('kokot'))"
   ]
  },
  {
   "cell_type": "markdown",
   "metadata": {},
   "source": [
    "## Group recommender"
   ]
  },
  {
   "cell_type": "code",
   "execution_count": 77,
   "metadata": {
    "collapsed": false
   },
   "outputs": [
    {
     "name": "stdout",
     "output_type": "stream",
     "text": [
      "CPU times: user 29.9 s, sys: 1.86 s, total: 31.7 s\n",
      "Wall time: 8min 58s\n"
     ]
    }
   ],
   "source": [
    "%%time\n",
    "movie_details = data.apply(lambda x : pd.Series(get_movie(x['name'])), axis=1)\n",
    "all_data = pd.concat([data, movie_details], axis=1)\n",
    "no_sex_data = all_data[~sex]"
   ]
  },
  {
   "cell_type": "code",
   "execution_count": 105,
   "metadata": {
    "collapsed": false
   },
   "outputs": [],
   "source": [
    "def recommand_for_gender(gender, limit=10):\n",
    "    f = no_sex_data[no_sex_data.gender == gender]\n",
    "    return f[['title', 'score', 'img']].sort_values(by='score', ascending=False)[:limit]"
   ]
  },
  {
   "cell_type": "code",
   "execution_count": 118,
   "metadata": {
    "collapsed": false
   },
   "outputs": [
    {
     "data": {
      "text/html": [
       "<div>\n",
       "<table border=\"1\" class=\"dataframe\">\n",
       "  <thead>\n",
       "    <tr style=\"text-align: right;\">\n",
       "      <th></th>\n",
       "      <th>title</th>\n",
       "      <th>score</th>\n",
       "      <th>img</th>\n",
       "    </tr>\n",
       "  </thead>\n",
       "  <tbody>\n",
       "    <tr>\n",
       "      <th>110</th>\n",
       "      <td>National Geographic Explorer</td>\n",
       "      <td>90%</td>\n",
       "      <td>http://img.csfd.cz/files/images/film/posters/0...</td>\n",
       "    </tr>\n",
       "    <tr>\n",
       "      <th>151</th>\n",
       "      <td>Mŕtva nevesta Tima Burtona</td>\n",
       "      <td>84%</td>\n",
       "      <td>http://img.csfd.cz/files/images/film/posters/1...</td>\n",
       "    </tr>\n",
       "    <tr>\n",
       "      <th>87</th>\n",
       "      <td>American Experience</td>\n",
       "      <td>84%</td>\n",
       "      <td>http://img.csfd.cz/files/images/film/posters/0...</td>\n",
       "    </tr>\n",
       "    <tr>\n",
       "      <th>146</th>\n",
       "      <td>Sully</td>\n",
       "      <td>83%</td>\n",
       "      <td>http://img.csfd.cz/files/images/film/posters/1...</td>\n",
       "    </tr>\n",
       "    <tr>\n",
       "      <th>64</th>\n",
       "      <td>Vlk z Wall Street</td>\n",
       "      <td>83%</td>\n",
       "      <td>http://img.csfd.cz/files/images/film/posters/1...</td>\n",
       "    </tr>\n",
       "    <tr>\n",
       "      <th>63</th>\n",
       "      <td>Izba</td>\n",
       "      <td>82%</td>\n",
       "      <td>http://img.csfd.cz/files/images/film/posters/1...</td>\n",
       "    </tr>\n",
       "    <tr>\n",
       "      <th>68</th>\n",
       "      <td>South Park: Bigger, Longer &amp; Uncut</td>\n",
       "      <td>81%</td>\n",
       "      <td>http://img.csfd.cz/files/images/film/posters/0...</td>\n",
       "    </tr>\n",
       "    <tr>\n",
       "      <th>177</th>\n",
       "      <td>Bež, chlapče, bež</td>\n",
       "      <td>80%</td>\n",
       "      <td>http://img.csfd.cz/files/images/film/posters/1...</td>\n",
       "    </tr>\n",
       "    <tr>\n",
       "      <th>86</th>\n",
       "      <td>Muži, ktorí nenávidia ženy</td>\n",
       "      <td>79%</td>\n",
       "      <td>http://img.csfd.cz/files/images/film/posters/1...</td>\n",
       "    </tr>\n",
       "    <tr>\n",
       "      <th>72</th>\n",
       "      <td>Účtovník</td>\n",
       "      <td>79%</td>\n",
       "      <td>http://img.csfd.cz/files/images/film/posters/1...</td>\n",
       "    </tr>\n",
       "  </tbody>\n",
       "</table>\n",
       "</div>"
      ],
      "text/plain": [
       "                                  title score  \\\n",
       "110        National Geographic Explorer   90%   \n",
       "151          Mŕtva nevesta Tima Burtona   84%   \n",
       "87                  American Experience   84%   \n",
       "146                               Sully   83%   \n",
       "64                    Vlk z Wall Street   83%   \n",
       "63                                 Izba   82%   \n",
       "68   South Park: Bigger, Longer & Uncut   81%   \n",
       "177                   Bež, chlapče, bež   80%   \n",
       "86           Muži, ktorí nenávidia ženy   79%   \n",
       "72                             Účtovník   79%   \n",
       "\n",
       "                                                   img  \n",
       "110  http://img.csfd.cz/files/images/film/posters/0...  \n",
       "151  http://img.csfd.cz/files/images/film/posters/1...  \n",
       "87   http://img.csfd.cz/files/images/film/posters/0...  \n",
       "146  http://img.csfd.cz/files/images/film/posters/1...  \n",
       "64   http://img.csfd.cz/files/images/film/posters/1...  \n",
       "63   http://img.csfd.cz/files/images/film/posters/1...  \n",
       "68   http://img.csfd.cz/files/images/film/posters/0...  \n",
       "177  http://img.csfd.cz/files/images/film/posters/1...  \n",
       "86   http://img.csfd.cz/files/images/film/posters/1...  \n",
       "72   http://img.csfd.cz/files/images/film/posters/1...  "
      ]
     },
     "execution_count": 118,
     "metadata": {},
     "output_type": "execute_result"
    }
   ],
   "source": [
    "muzi = recommand_for_gender('M')\n",
    "muzi"
   ]
  },
  {
   "cell_type": "code",
   "execution_count": 117,
   "metadata": {
    "collapsed": false
   },
   "outputs": [
    {
     "data": {
      "text/html": [
       "<div>\n",
       "<table border=\"1\" class=\"dataframe\">\n",
       "  <thead>\n",
       "    <tr style=\"text-align: right;\">\n",
       "      <th></th>\n",
       "      <th>title</th>\n",
       "      <th>score</th>\n",
       "      <th>img</th>\n",
       "    </tr>\n",
       "  </thead>\n",
       "  <tbody>\n",
       "    <tr>\n",
       "      <th>207</th>\n",
       "      <td>National Geographic Explorer</td>\n",
       "      <td>90%</td>\n",
       "      <td>http://img.csfd.cz/files/images/film/posters/0...</td>\n",
       "    </tr>\n",
       "    <tr>\n",
       "      <th>284</th>\n",
       "      <td>Návrat Temného rytiera</td>\n",
       "      <td>86%</td>\n",
       "      <td>http://img.csfd.cz/files/images/film/posters/0...</td>\n",
       "    </tr>\n",
       "    <tr>\n",
       "      <th>237</th>\n",
       "      <td>Jindřich IV.</td>\n",
       "      <td>85%</td>\n",
       "      <td>http://img.csfd.cz/files/images/film/posters/0...</td>\n",
       "    </tr>\n",
       "    <tr>\n",
       "      <th>228</th>\n",
       "      <td>American Experience</td>\n",
       "      <td>84%</td>\n",
       "      <td>http://img.csfd.cz/files/images/film/posters/0...</td>\n",
       "    </tr>\n",
       "    <tr>\n",
       "      <th>269</th>\n",
       "      <td>Sully</td>\n",
       "      <td>83%</td>\n",
       "      <td>http://img.csfd.cz/files/images/film/posters/1...</td>\n",
       "    </tr>\n",
       "    <tr>\n",
       "      <th>240</th>\n",
       "      <td>Náš vodca</td>\n",
       "      <td>82%</td>\n",
       "      <td>http://img.csfd.cz/files/images/film/posters/1...</td>\n",
       "    </tr>\n",
       "    <tr>\n",
       "      <th>229</th>\n",
       "      <td>... a rána sú tu tiché</td>\n",
       "      <td>78%</td>\n",
       "      <td>http://img.csfd.cz/files/images/film/posters/1...</td>\n",
       "    </tr>\n",
       "    <tr>\n",
       "      <th>298</th>\n",
       "      <td>V zajatí démonov 2</td>\n",
       "      <td>78%</td>\n",
       "      <td>http://img.csfd.cz/files/images/film/posters/1...</td>\n",
       "    </tr>\n",
       "    <tr>\n",
       "      <th>215</th>\n",
       "      <td>Hrozná hnevu</td>\n",
       "      <td>77%</td>\n",
       "      <td>http://img.csfd.cz/files/images/film/posters/1...</td>\n",
       "    </tr>\n",
       "    <tr>\n",
       "      <th>212</th>\n",
       "      <td>Experiment</td>\n",
       "      <td>76%</td>\n",
       "      <td>http://img.csfd.cz/files/images/film/posters/0...</td>\n",
       "    </tr>\n",
       "  </tbody>\n",
       "</table>\n",
       "</div>"
      ],
      "text/plain": [
       "                            title score  \\\n",
       "207  National Geographic Explorer   90%   \n",
       "284        Návrat Temného rytiera   86%   \n",
       "237                  Jindřich IV.   85%   \n",
       "228           American Experience   84%   \n",
       "269                         Sully   83%   \n",
       "240                     Náš vodca   82%   \n",
       "229        ... a rána sú tu tiché   78%   \n",
       "298            V zajatí démonov 2   78%   \n",
       "215                  Hrozná hnevu   77%   \n",
       "212                    Experiment   76%   \n",
       "\n",
       "                                                   img  \n",
       "207  http://img.csfd.cz/files/images/film/posters/0...  \n",
       "284  http://img.csfd.cz/files/images/film/posters/0...  \n",
       "237  http://img.csfd.cz/files/images/film/posters/0...  \n",
       "228  http://img.csfd.cz/files/images/film/posters/0...  \n",
       "269  http://img.csfd.cz/files/images/film/posters/1...  \n",
       "240  http://img.csfd.cz/files/images/film/posters/1...  \n",
       "229  http://img.csfd.cz/files/images/film/posters/1...  \n",
       "298  http://img.csfd.cz/files/images/film/posters/1...  \n",
       "215  http://img.csfd.cz/files/images/film/posters/1...  \n",
       "212  http://img.csfd.cz/files/images/film/posters/0...  "
      ]
     },
     "execution_count": 117,
     "metadata": {},
     "output_type": "execute_result"
    }
   ],
   "source": [
    "zeny = recommand_for_gender('F')\n",
    "zeny"
   ]
  },
  {
   "cell_type": "code",
   "execution_count": 130,
   "metadata": {
    "collapsed": false
   },
   "outputs": [],
   "source": [
    "muzi.to_json('../data/muzi.json', force_ascii=False, orient='records')"
   ]
  },
  {
   "cell_type": "code",
   "execution_count": 131,
   "metadata": {
    "collapsed": true
   },
   "outputs": [],
   "source": [
    "zeny.to_json('../data/zeny.json', force_ascii=False, orient='records')"
   ]
  },
  {
   "cell_type": "code",
   "execution_count": 132,
   "metadata": {
    "collapsed": false
   },
   "outputs": [],
   "source": [
    "zena = no_sex_data[['title', 'score', 'img']][no_sex_data.gender == 'F'].sample(20)\n",
    "zena.to_json('../data/zena.json', force_ascii=False, orient='records')"
   ]
  }
 ],
 "metadata": {
  "kernelspec": {
   "display_name": "Python 3",
   "language": "python",
   "name": "python3"
  },
  "language_info": {
   "codemirror_mode": {
    "name": "ipython",
    "version": 3
   },
   "file_extension": ".py",
   "mimetype": "text/x-python",
   "name": "python",
   "nbconvert_exporter": "python",
   "pygments_lexer": "ipython3",
   "version": "3.5.2+"
  }
 },
 "nbformat": 4,
 "nbformat_minor": 2
}
